{
 "cells": [
  {
   "cell_type": "markdown",
   "id": "fece9f18-e808-4edc-9ba1-9ff75269d2e5",
   "metadata": {},
   "source": [
    "# Configuració de handlers, formatters y loggers"
   ]
  },
  {
   "cell_type": "code",
   "execution_count": null,
   "id": "7f7b6528-72a6-49d9-a53c-704690a4a1e0",
   "metadata": {},
   "outputs": [],
   "source": [
    "import logging\n",
    "\n",
    "# Configuració dels handlers\n",
    "info_handler = logging.FileHandler('info.log')\n",
    "info_handler.setLevel(logging.INFO)\n",
    "\n",
    "error_handler = logging.FileHandler('error.log')\n",
    "error_handler.setLevel(logging.ERROR)\n",
    "\n",
    "console_handler = logging.StreamHandler()\n",
    "console_handler.setLevel(logging.INFO)\n",
    "\n",
    "# Formatador\n",
    "formatter = logging.Formatter('%(asctime)s - %(levelname)s - %(message)s')\n",
    "info_handler.setFormatter(formatter)\n",
    "error_handler.setFormatter(formatter)\n",
    "console_handler.setFormatter(formatter)\n",
    "\n",
    "# Configuració del logger\n",
    "logger = logging.getLogger('my_logger')\n",
    "logger.setLevel(logging.DEBUG)\n",
    "logger.addHandler(info_handler)\n",
    "logger.addHandler(error_handler)\n",
    "logger.addHandler(console_handler)\n",
    "\n",
    "# Exemple d'ús\n",
    "logger.info(\"Aquest és un missatge d'info.\")\n",
    "logger.error(\"Aquest és un missatge d'error.\")\n"
   ]
  },
  {
   "cell_type": "code",
   "execution_count": null,
   "id": "f75cbbe5-8278-4797-ba0c-0474500c68d5",
   "metadata": {},
   "outputs": [],
   "source": [
    "import csv\n",
    "import logging\n",
    "\n",
    "class CSVFormatter(logging.Formatter):\n",
    "    def format(self, record):\n",
    "        return f'{record.asctime},{record.levelname},{record.message}'\n",
    "\n",
    "csv_handler = logging.FileHandler('logs.csv')\n",
    "csv_handler.setLevel(logging.INFO)\n",
    "csv_handler.setFormatter(CSVFormatter())\n",
    "\n",
    "csv_logger = logging.getLogger('csv_logger')\n",
    "csv_logger.setLevel(logging.DEBUG)\n",
    "csv_logger.addHandler(csv_handler)\n",
    "\n",
    "# Exemple d'ús\n",
    "csv_logger.info(\"Això és un missatge al logger CSV.\")\n"
   ]
  }
 ],
 "metadata": {
  "kernelspec": {
   "display_name": "Python 3 (ipykernel)",
   "language": "python",
   "name": "python3"
  },
  "language_info": {
   "codemirror_mode": {
    "name": "ipython",
    "version": 3
   },
   "file_extension": ".py",
   "mimetype": "text/x-python",
   "name": "python",
   "nbconvert_exporter": "python",
   "pygments_lexer": "ipython3",
   "version": "3.12.1"
  }
 },
 "nbformat": 4,
 "nbformat_minor": 5
}
