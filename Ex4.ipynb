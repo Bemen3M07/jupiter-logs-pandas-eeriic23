{
 "cells": [
  {
   "cell_type": "code",
   "execution_count": 4,
   "id": "8b19abae-0504-4d43-b359-36320765fe3f",
   "metadata": {},
   "outputs": [
    {
     "name": "stdout",
     "output_type": "stream",
     "text": [
      "Dades del fitxer csv:\n",
      "       Nom  Edat Gènere     Ciutat     Professió\n",
      "0     Anna    22      F  Barcelona     Enginyera\n",
      "1     Joan    30      M     Madrid     Professor\n",
      "2    Laura    27      F   València      Metgessa\n",
      "3     Pere    19      M    Sevilla     Estudiant\n",
      "4    Marta    35      F     Bilbao  Dissenyadora\n",
      "5    Carla    28      F   Zaragoza     Infermera\n",
      "6    Oriol    24      M  Tarragona    Periodista\n",
      "7      Eva    40      F  Barcelona      Advocada\n",
      "8     Marc    26      M   València      Analista\n",
      "9    Clara    31      F    Sevilla    Arquitecta\n",
      "10   Sergi    21      M     Girona     Estudiant\n",
      "11   Paula    29      F     Màlaga     Psicòloga\n",
      "12     Pol    18      M  Saragossa     Estudiant\n",
      "13    Aina    34      F  Tarragona        Mestra\n",
      "14   Ramon    32      M     Toledo      Enginyer\n",
      "15   Núria    20      F     Oviedo     Estudiant\n",
      "16  Víctor    37      M   València    Economista\n",
      "17  Teresa    25      F     Madrid    Consultora\n",
      "18  Carles    27      M  Barcelona  Investigador\n",
      "19   Elena    36      F     Bilbao     Directora\n"
     ]
    }
   ],
   "source": [
    "import pandas as pd\n",
    "\n",
    "# Llegeix el fitxer CSV\n",
    "df = pd.read_csv('dades.csv')\n",
    "\n",
    "print(\"Dades del fitxer csv:\")\n",
    "print(df)"
   ]
  },
  {
   "cell_type": "code",
   "execution_count": null,
   "id": "83e4a832-487e-4826-b430-9161757dbe4e",
   "metadata": {},
   "outputs": [],
   "source": []
  }
 ],
 "metadata": {
  "kernelspec": {
   "display_name": "Python 3 (ipykernel)",
   "language": "python",
   "name": "python3"
  },
  "language_info": {
   "codemirror_mode": {
    "name": "ipython",
    "version": 3
   },
   "file_extension": ".py",
   "mimetype": "text/x-python",
   "name": "python",
   "nbconvert_exporter": "python",
   "pygments_lexer": "ipython3",
   "version": "3.12.1"
  }
 },
 "nbformat": 4,
 "nbformat_minor": 5
}
